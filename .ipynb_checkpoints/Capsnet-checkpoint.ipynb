{
 "cells": [
  {
   "cell_type": "markdown",
   "metadata": {},
   "source": [
    "## Capsnet experiment \n"
   ]
  },
  {
   "cell_type": "markdown",
   "metadata": {},
   "source": [
    "### Theory"
   ]
  },
  {
   "attachments": {},
   "cell_type": "markdown",
   "metadata": {},
   "source": [
    "Some text here \n",
    "![Layout](network.png)"
   ]
  },
  {
   "cell_type": "markdown",
   "metadata": {},
   "source": []
  },
  {
   "cell_type": "markdown",
   "metadata": {},
   "source": []
  },
  {
   "cell_type": "markdown",
   "metadata": {},
   "source": [
    "### Keras implementation\n",
    "\n",
    "I'm trying to rebuild the network from the article. \n",
    "\n",
    "This means we are going to make a network with the following structure: \n",
    "- 1 convolutional layer with 256 filters, 9x9 kernel size, stride of 1. \n",
    "- 1 layer with primary capsules\n",
    "- 1 layer with digit capsules\n",
    "- Decoder"
   ]
  },
  {
   "cell_type": "code",
   "execution_count": 3,
   "metadata": {
    "collapsed": true
   },
   "outputs": [],
   "source": [
    "%matplotlib inline\n",
    "import matplotlib\n",
    "import matplotlib.pyplot as plt\n",
    "import numpy as np"
   ]
  },
  {
   "cell_type": "markdown",
   "metadata": {},
   "source": [
    "Load MNIST data"
   ]
  },
  {
   "cell_type": "code",
   "execution_count": 36,
   "metadata": {
    "collapsed": true
   },
   "outputs": [],
   "source": [
    "from keras.datasets import mnist\n",
    "from keras.utils import to_categorical\n",
    "\n",
    "(x_train, y_train), (x_test, y_test) = mnist.load_data()\n",
    "x_train = x_train.reshape(-1, 28, 28, 1).astype('float32') / 255.\n",
    "x_test = x_test.reshape(-1, 28, 28, 1).astype('float32') / 255.\n",
    "y_train = to_categorical(y_train.astype('float32'))\n",
    "y_test = to_categorical(y_test.astype('float32'))"
   ]
  },
  {
   "cell_type": "code",
   "execution_count": 52,
   "metadata": {},
   "outputs": [
    {
     "data": {
      "image/png": "[encoded data removed]",
      "text/plain": [
       "<matplotlib.figure.Figure at 0x1e58ab74a20>"
      ]
     },
     "metadata": {},
     "output_type": "display_data"
    }
   ],
   "source": [
    "n_samples = 10\n",
    "\n",
    "plt.figure(figsize=(n_samples * 2, 3))\n",
    "for index in range(n_samples):\n",
    "    plt.subplot(1, n_samples, index + 1)\n",
    "    sample_image = x_train[index].transpose(2,1,0).squeeze()\n",
    "    plt.imshow(sample_image, cmap='binary')\n",
    "    plt.axis(\"off\")\n",
    "\n",
    "plt.show()"
   ]
  },
  {
   "cell_type": "markdown",
   "metadata": {},
   "source": [
    "First some basic layers"
   ]
  },
  {
   "cell_type": "code",
   "execution_count": 68,
   "metadata": {},
   "outputs": [
    {
     "name": "stdout",
     "output_type": "stream",
     "text": [
      "(60000, 28, 28, 1)\n"
     ]
    }
   ],
   "source": [
    "import keras\n",
    "print(x_train[0:].shape)"
   ]
  },
  {
   "cell_type": "code",
   "execution_count": 70,
   "metadata": {
    "collapsed": true
   },
   "outputs": [],
   "source": [
    "input = keras.layers.Input(shape=x_train[0,:].shape, name='input')\n",
    "\n",
    "# the first layer is just a 'simple' convolutional layer with 256, 9 x 9 filters and a stride of 1. \n",
    "conv1 = keras.layers.Conv2D(filters=256, \n",
    "                            kernel_size=9, \n",
    "                            strides=1, \n",
    "                            padding='valid', \n",
    "                            activation='relu',\n",
    "                            name='conv1')(input)"
   ]
  },
  {
   "cell_type": "code",
   "execution_count": 104,
   "metadata": {
    "collapsed": true
   },
   "outputs": [],
   "source": [
    "# now we are going to make the first primary capsule\n",
    "# This is a convolutional layer with 32 channels of convolutional capsules with 8 dimensions. Each primary capsule\n",
    "# contains 8 convolutional units with a 9 x 9 filter and a stride of 2. \n",
    "\n",
    "# following the paper this means the following: \n",
    "primary_capsule_channels = 32 #of 6 x 6 in size\n",
    "primary_capsule_amount = 6 * 6 * 32\n",
    "primary_capsule_capsules = 8\n",
    "\n",
    "primary_capsule = keras.layers.Conv2D(filters=primary_capsule_channels * primary_capsule_capsules,\n",
    "                                      kernel_size=9,\n",
    "                                      strides=2,\n",
    "                                      padding='valid',\n",
    "                                      activation='relu',\n",
    "                                      name='primary_capsules')(conv1)\n",
    "\n",
    "\n",
    "# NOTE: I can't find out any words from the paper whether the\n",
    "# PrimaryCap convolution does a ReLU activation or not before\n",
    "# squashing function, but experiment show that using ReLU get a\n",
    "# higher test accuracy. So, which one to use will be your choice"
   ]
  },
  {
   "cell_type": "code",
   "execution_count": 72,
   "metadata": {
    "collapsed": true
   },
   "outputs": [],
   "source": [
    "primary_capsule_reshape = keras.layers.Reshape(target_shape=[-1,\n",
    "                                                             primary_capsule_capsules], \n",
    "                                               name='primarycap_reshape')(primary_capsule)"
   ]
  },
  {
   "cell_type": "markdown",
   "metadata": {},
   "source": [
    "Note: since we used a kernel size of 9 and no padding (for some reason, that's what \"valid\" means), the image shrunk by 9-1=8 pixels after each convolutional layer (28×28 to 20×20, then 20×20 to 12×12), and since we used a stride of 2 in the second convolutional layer, the image size was divided by 2. This is how we end up with 6×6 feature maps.\n",
    "\n",
    "Next, we reshape the output to get a bunch of 8D vectors representing the outputs of the primary capsules. The output of conv2 is an array containing 32×8=256 feature maps for each instance, where each feature map is 6×6. So the shape of this output is (batch size, 6, 6, 256). We want to chop the 256 into 32 vectors of 8 dimensions each. We could do this by reshaping to (batch size, 6, 6, 32, 8). However, since this first capsule layer will be fully connected to the next capsule layer, we can simply flatten the 6×6 grids. This means we just need to reshape to (batch size, 6×6×32, 8).\n"
   ]
  },
  {
   "cell_type": "code",
   "execution_count": 74,
   "metadata": {},
   "outputs": [
    {
     "name": "stdout",
     "output_type": "stream",
     "text": [
      "(?, 20, 20, 256)\n",
      "(?, 6, 6, 256)\n",
      "(?, ?, 8)\n"
     ]
    }
   ],
   "source": [
    "print(conv1.get_shape())\n",
    "print(primary_capsule.get_shape()) \n",
    "print(primary_capsule_reshape.get_shape()) # 32*6*6 = 1152. Dimensions are: [None, 1152, 8]"
   ]
  },
  {
   "cell_type": "markdown",
   "metadata": {},
   "source": [
    "The squashing function needs to be implemented. This is a copy from another example, were they noted that there is a change that the squared norm becomes a nan. To prevent this from happinging we implement a small factor epsilon. \n",
    "\n",
    "Squash function: \n",
    "\n",
    "$\\mathbf{s}_j = \\frac{\\|{\\mathbf{s}_j}\\|^2}{1 + \\|{\\mathbf{s}_j}\\|^2} \\frac{\\mathbf{s}_j}{\\|{\\mathbf{s}_j}\\|} $ "
   ]
  },
  {
   "cell_type": "code",
   "execution_count": 106,
   "metadata": {
    "collapsed": true
   },
   "outputs": [],
   "source": [
    "import keras.backend as K\n",
    "import tensorflow as tf\n",
    "\n",
    "def squash(vectors, axis=-1, epsilon=1e-7, name=None):    \n",
    "    squared_norm = K.sum(K.square(vectors), axis=axis, keepdims=True)\n",
    "    safe_norm = K.sqrt(squared_norm +  epsilon)\n",
    "    squash_factor = squared_norm/ (1.0 + squared_norm)\n",
    "    unit_vector = vectors / safe_norm\n",
    "    squased_vector = squash_factor * unit_vector\n",
    "    \n",
    "    return squased_vector\n",
    "    "
   ]
  },
  {
   "cell_type": "code",
   "execution_count": 107,
   "metadata": {
    "collapsed": true
   },
   "outputs": [],
   "source": [
    "primary_capsule_output = keras.layers.Lambda(squash, name='primary_capsule_squash')(primary_capsule_reshape)"
   ]
  },
  {
   "cell_type": "markdown",
   "metadata": {},
   "source": [
    "### Digit capsules"
   ]
  },
  {
   "cell_type": "markdown",
   "metadata": {},
   "source": [
    "$ \\pmatrix{ \\mathbf{A} & \\mathbf{B} & \\mathbf{C} \\\\ \\mathbf{D} & \\mathbf{E} & \\mathbf{F} } \\times \\pmatrix{ \\mathbf{G} & \\mathbf{H} & \\mathbf{I} \\\\ \\mathbf{J} & \\mathbf{K} & \\mathbf{L} } = \\pmatrix{ \\mathbf{AG} & \\mathbf{BH} & \\mathbf{CI} \\\\ \\mathbf{DJ} & \\mathbf{EK} & \\mathbf{FL} } $\n",
    "\n"
   ]
  },
  {
   "cell_type": "markdown",
   "metadata": {},
   "source": [
    "In the code below we are going to implement the next layer. \n",
    "Especially the Weight matrixes and prediction vectors: \n",
    "\n",
    "$\\hat{u}_{j|i} = \\mathbf{W}_{ij}\\mathbf{u}_i$"
   ]
  },
  {
   "cell_type": "code",
   "execution_count": 128,
   "metadata": {
    "collapsed": true
   },
   "outputs": [],
   "source": [
    "number_of_capsules_digit = 10\n",
    "number_of_dimensions_digit = 16 \n",
    "batch_size = 50 # set for this experiment on 50"
   ]
  },
  {
   "cell_type": "code",
   "execution_count": 129,
   "metadata": {},
   "outputs": [],
   "source": [
    "# create a weight matrix with the dimensions:\n",
    "#AmountOfCapsulesFirstLayer, # AmountOfCapsulesSecondLayer, #DimensionsOfSecondLayer, #DimensionsOfFirstLayer\n",
    "\n",
    "W_init = K.random_normal(shape=(1, \n",
    "                                primary_capsule_amount, \n",
    "                                number_of_capsules_digit, \n",
    "                                number_of_dimensions_digit, \n",
    "                                primary_capsule_capsules), \n",
    "                        stddev=0.01, \n",
    "                        dtype=tf.float32\n",
    "                        )\n",
    "W = K.variable(W_init, name=\"W\")\n",
    "\n",
    "# repeat this for all images in the batch\n",
    "W_tiled = K.tile(W, [batch_size, 1, 1, 1, 1])"
   ]
  },
  {
   "cell_type": "code",
   "execution_count": 130,
   "metadata": {},
   "outputs": [],
   "source": [
    "primary_capsule_output_expand = K.expand_dims(primary_capsule_output, -1)\n",
    "primary_capsule_output_tile = K.expand_dims(primary_capsule_output_expand, 2)\n",
    "primary_capsule_output_tiled = K.tile(primary_capsule_output_tile, [1, 1, number_of_capsules_digit, 1, 1])"
   ]
  },
  {
   "cell_type": "code",
   "execution_count": 139,
   "metadata": {},
   "outputs": [
    {
     "name": "stdout",
     "output_type": "stream",
     "text": [
      "Tensor(\"MatMul_2:0\", shape=(50, 1152, 10, 16, 1), dtype=float32)\n"
     ]
    }
   ],
   "source": [
    "predictions_of_second_capsules = tf.matmul(W_tiled, primary_capsule_output_tiled)\n",
    "print(predictions_of_second_capsules)"
   ]
  },
  {
   "cell_type": "markdown",
   "metadata": {
    "collapsed": true
   },
   "source": [
    "### Routing by agreement\n",
    "calculate c:\n",
    "\n",
    "$ c_{ij} = \\frac{exp(b_{ij})}{\\sum\\nolimits_{K} exp(b_{ik})}$"
   ]
  },
  {
   "cell_type": "code",
   "execution_count": 143,
   "metadata": {},
   "outputs": [
    {
     "name": "stdout",
     "output_type": "stream",
     "text": [
      "Tensor(\"raw_weights_2:0\", shape=(50, 1152, 10, 1, 1), dtype=float32)\n"
     ]
    }
   ],
   "source": [
    "raw_weights = tf.zeros([batch_size, primary_capsule_amount, number_of_capsules_digit, 1, 1],\n",
    "                       dtype=np.float32, name=\"raw_weights\")\n",
    "print(raw_weights)"
   ]
  },
  {
   "cell_type": "markdown",
   "metadata": {},
   "source": [
    "$\\mathbf{s}_j = \\sum\\limits_{i}{c_{i,j}\\hat{\\mathbf{u}}_{j|i}}$ "
   ]
  },
  {
   "cell_type": "code",
   "execution_count": 144,
   "metadata": {},
   "outputs": [
    {
     "name": "stdout",
     "output_type": "stream",
     "text": [
      "Tensor(\"routing_weights_2:0\", shape=(50, 1152, 10, 1, 1), dtype=float32)\n"
     ]
    }
   ],
   "source": [
    "routing_weights = tf.nn.softmax(raw_weights, dim=2, name=\"routing_weights\")\n",
    "print(routing_weights)"
   ]
  },
  {
   "cell_type": "markdown",
   "metadata": {},
   "source": [
    "$ \\pmatrix{1 & 2 & 3 \\\\ 4 & 5 & 6} \\circ \\pmatrix{10 & 100 & 1000} = \\pmatrix{1 & 2 & 3 \\\\ 4 & 5 & 6} \\circ \\pmatrix{10 & 100 & 1000 \\\\ 10 & 100 & 1000} = \\pmatrix{10 & 200 & 3000 \\\\ 40 & 500 & 6000} $"
   ]
  },
  {
   "cell_type": "code",
   "execution_count": 147,
   "metadata": {},
   "outputs": [
    {
     "name": "stdout",
     "output_type": "stream",
     "text": [
      "Tensor(\"Mul_3:0\", shape=(50, 1152, 10, 16, 1), dtype=float32)\n",
      "Tensor(\"weighted_sum_1:0\", shape=(50, 1, 10, 16, 1), dtype=float32)\n"
     ]
    }
   ],
   "source": [
    "weighted_predictions = tf.multiply(routing_weights, predictions_of_second_capsules)\n",
    "weighted_sum = tf.reduce_sum(weighted_predictions, axis=1, keep_dims=True,\n",
    "                             name=\"weighted_sum\")\n",
    "print(weighted_predictions)\n",
    "print(weighted_sum)"
   ]
  },
  {
   "cell_type": "code",
   "execution_count": 148,
   "metadata": {
    "collapsed": true
   },
   "outputs": [],
   "source": [
    "caps2_output_round_1 = squash(weighted_sum, axis=-2,\n",
    "                              name=\"caps2_output_round_1\")"
   ]
  },
  {
   "cell_type": "code",
   "execution_count": 149,
   "metadata": {},
   "outputs": [
    {
     "data": {
      "text/plain": [
       "<tf.Tensor 'mul:0' shape=(50, 1, 10, 16, 1) dtype=float32>"
      ]
     },
     "execution_count": 149,
     "metadata": {},
     "output_type": "execute_result"
    }
   ],
   "source": [
    "caps2_output_round_1"
   ]
  },
  {
   "cell_type": "code",
   "execution_count": 152,
   "metadata": {},
   "outputs": [
    {
     "name": "stdout",
     "output_type": "stream",
     "text": [
      "(14, 4)\n"
     ]
    }
   ],
   "source": [
    "\n"
   ]
  },
  {
   "cell_type": "code",
   "execution_count": null,
   "metadata": {
    "collapsed": true
   },
   "outputs": [],
   "source": []
  }
 ],
 "metadata": {
  "kernelspec": {
   "display_name": "Python 3",
   "language": "python",
   "name": "python3"
  },
  "language_info": {
   "codemirror_mode": {
    "name": "ipython",
    "version": 3
   },
   "file_extension": ".py",
   "mimetype": "text/x-python",
   "name": "python",
   "nbconvert_exporter": "python",
   "pygments_lexer": "ipython3",
   "version": "3.6.4"
  }
 },
 "nbformat": 4,
 "nbformat_minor": 2
}
